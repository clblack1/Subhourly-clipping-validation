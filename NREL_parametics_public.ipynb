{
 "cells": [
  {
   "cell_type": "code",
   "execution_count": 1,
   "metadata": {},
   "outputs": [],
   "source": [
    "# all of the libraries neccessary for simulations\n",
    "import os # used to get user path for weather file\n",
    "import json # used to import the .json of SAM model\n",
    "import pandas as pd # used to generate data table\n",
    "import numpy as np # used to generate data table\n",
    " \n",
    "# import SAM generated modules required for the \n",
    "# PV Model – No Financial Model configuration\n",
    "# files needed: Pvsamv1, Grid \n",
    "import PySAM.Pvsamv1 as pv\n",
    "import PySAM.Grid as gr"
   ]
  },
  {
   "cell_type": "code",
   "execution_count": 2,
   "metadata": {},
   "outputs": [
    {
     "name": "stdout",
     "output_type": "stream",
     "text": [
      "The history saving thread hit an unexpected error (OperationalError('database is locked')).History will not be written to the database.\n"
     ]
    }
   ],
   "source": [
    "# the data that varies between each SAM simulation site\n",
    "\n",
    "# directory to folder for specific plant\n",
    "dir = os.getcwd() + \"\\\\NREL\\\\\"\n",
    "file_names = [\"NREL_PVSC_pvsamv1\", \"NREL_PVSC_grid\"]\n",
    "csv_name = 'NREL_bias' # file name to store calculated bias values\n",
    "\n",
    "# changing number of strings to achieve\n",
    "# different ILR (DC/AC ratio) Values (1.2-2.0)\n",
    "num_of_strings = [119, 129, 139, 149, 159, 169, 179, 188, 198]\n",
    "\n",
    "# empirical bias for plant\n",
    "# corresponding to each ILR value\n",
    "empirical = [0.44, 0.95, 1.45, 1.89, 2.28, 2.56, 2.77, 2.93, 3.03]\n",
    "\n",
    "# all of the different weather file names\n",
    "# 5 different vendors\n",
    "# each with an hourly and subhourly version\n",
    "v1_subhourly = \"NREL_vendor1_2020_subhourly\"\n",
    "v1_hourly = \"NREL_vendor1_2020_hourly_avg\"\n",
    "\n",
    "v2_subhourly = \"NREL_vendor2_2020_subhourly\"\n",
    "v2_hourly = \"NREL_vendor2_2020_hourly_avg\"\n",
    "\n",
    "v3_subhourly = \"NREL_Vendor3_TMY_subhourly\"\n",
    "v3_hourly = \"NREL_Vendor3_TMY_hourly_avg\"\n",
    "\n",
    "v4_subhourly = \"NREL_Vendor4_TMY_subhourly\"\n",
    "v4_hourly = \"NREL_Vendor4_TMY_hourly_avg\"\n",
    "\n",
    "v5_subhourly = \"NREL_Vendor5_TMY_subhourly\"\n",
    "v5_hourly = \"NREL_Vendor5_TMY_hourly_avg\"\n",
    "\n",
    "## DO NOT EDIT BELOW ##\n",
    "\n",
    "# create an instance of the \n",
    "# Detailed PV Model – No Financial Model with defaults\n",
    "system_model = pv.new() #FlatPlatePVNone\n",
    "grid_model = gr.from_existing(system_model)\n",
    "modules = [system_model, grid_model]\n",
    "\n",
    "# import the SAM .json data into the system and grid model\n",
    "for f, m in zip(file_names, modules):\n",
    "    with open(dir + f + \".json\", 'r') as file:\n",
    "        data = json.load(file)\n",
    "        # loop through each key-value pair\n",
    "        for k, v in data.items():\n",
    "            if k != \"number_inputs\":\n",
    "                m.value(k, v)"
   ]
  },
  {
   "cell_type": "code",
   "execution_count": 3,
   "metadata": {},
   "outputs": [],
   "source": [
    "# cycle through different ILRs for each weather file\n",
    "\n",
    "# change to the appropriate file located in the weather folder\n",
    "system_model.value('solar_resource_file', os.getcwd() + \"\\\\Weather\\\\\" + v1_subhourly + \".csv\")\n",
    "vendor1_subhourly = []\n",
    "\n",
    "# generate the annual energy value for each ILR\n",
    "for num in num_of_strings:\n",
    "    system_model.value('subarray1_nstrings', num)\n",
    "    system_model.execute()\n",
    "    vendor1_subhourly.append(system_model.value('annual_energy'))\n",
    "    #print(system_model.value('annual_energy'))\n",
    "\n",
    "# change to the appropriate file located in the weather folder\n",
    "system_model.value('solar_resource_file', os.getcwd() + \"\\\\Weather\\\\\" + v1_hourly + \".csv\")\n",
    "vendor1_hourly = []\n",
    "\n",
    "# generate the annual energy value for each ILR\n",
    "for num in num_of_strings:\n",
    "    system_model.value('subarray1_nstrings', num)\n",
    "    system_model.execute()\n",
    "    vendor1_hourly.append(system_model.value('annual_energy'))\n",
    "    #print(system_model.value('annual_energy'))\n",
    "\n",
    "# calculate biases for each set of vendor data\n",
    "vendor1_bias = []\n",
    "for index in range(len(num_of_strings)):\n",
    "    # bias = (hourly - subhourly)/subhourly * 100\n",
    "    bias = (vendor1_hourly[index] - vendor1_subhourly[index])/vendor1_subhourly[index] * 100\n",
    "    bias = round(bias, 2)\n",
    "    vendor1_bias.append(bias)"
   ]
  },
  {
   "cell_type": "code",
   "execution_count": 4,
   "metadata": {},
   "outputs": [],
   "source": [
    "# cycle through different ILRs for each weather file\n",
    "# change to the appropriate file located in the weather folder\n",
    "system_model.value('solar_resource_file', os.getcwd() + \"\\\\Weather\\\\\" + v2_subhourly + \".csv\")\n",
    "vendor2_subhourly = []\n",
    "\n",
    "# generate the annual energy value for each ILR\n",
    "for num in num_of_strings:\n",
    "    system_model.value('subarray1_nstrings', num)\n",
    "    system_model.execute()\n",
    "    vendor2_subhourly.append(system_model.value('annual_energy'))\n",
    "    #print(system_model.value('annual_energy'))\n",
    "\n",
    "# change to the appropriate file located in the weather folder\n",
    "system_model.value('solar_resource_file', os.getcwd() + \"\\\\Weather\\\\\" + v2_hourly + \".csv\")\n",
    "vendor2_hourly = []\n",
    "\n",
    "# generate the annual energy value for each ILR\n",
    "for num in num_of_strings:\n",
    "    system_model.value('subarray1_nstrings', num)\n",
    "    system_model.execute()\n",
    "    vendor2_hourly.append(system_model.value('annual_energy'))\n",
    "    #print(system_model.value('annual_energy'))\n",
    "\n",
    "# calculate biases for each set of vendor data\n",
    "vendor2_bias = []\n",
    "for index in range(len(num_of_strings)):\n",
    "    # bias = (hourly - subhourly)/subhourly * 100\n",
    "    bias = (vendor2_hourly[index] - vendor2_subhourly[index])/vendor2_subhourly[index] * 100\n",
    "    bias = round(bias, 2)\n",
    "    vendor2_bias.append(bias)"
   ]
  },
  {
   "cell_type": "code",
   "execution_count": 5,
   "metadata": {},
   "outputs": [],
   "source": [
    "# cycle through different ILRs for each weather file\n",
    "# change to the appropriate file located in the weather folder\n",
    "system_model.value('solar_resource_file', os.getcwd() + \"\\\\Weather\\\\\" + v3_subhourly + \".csv\")\n",
    "vendor3_subhourly = []\n",
    "\n",
    "# generate the annual energy value for each ILR\n",
    "for num in num_of_strings:\n",
    "    system_model.value('subarray1_nstrings', num)\n",
    "    system_model.execute()\n",
    "    vendor3_subhourly.append(system_model.value('annual_energy'))\n",
    "    #print(system_model.value('annual_energy'))\n",
    "\n",
    "# change to the appropriate file located in the weather folder\n",
    "system_model.value('solar_resource_file', os.getcwd() + \"\\\\Weather\\\\\" + v3_hourly + \".csv\")\n",
    "vendor3_hourly = []\n",
    "\n",
    "# generate the annual energy value for each ILR\n",
    "for num in num_of_strings:\n",
    "    system_model.value('subarray1_nstrings', num)\n",
    "    system_model.execute()\n",
    "    vendor3_hourly.append(system_model.value('annual_energy'))\n",
    "    #print(system_model.value('annual_energy'))\n",
    "\n",
    "# calculate biases for each set of vendor data\n",
    "vendor3_bias = []\n",
    "for index in range(len(num_of_strings)):\n",
    "    # bias = (hourly - subhourly)/subhourly * 100\n",
    "    bias = (vendor3_hourly[index] - vendor3_subhourly[index])/vendor3_subhourly[index] * 100\n",
    "    bias = round(bias, 2)\n",
    "    vendor3_bias.append(bias)"
   ]
  },
  {
   "cell_type": "code",
   "execution_count": 6,
   "metadata": {},
   "outputs": [],
   "source": [
    "# cycle through different ILRs for each weather file\n",
    "# change to the appropriate file located in the weather folder\n",
    "system_model.value('solar_resource_file', os.getcwd() + \"\\\\Weather\\\\\" + v4_subhourly + \".csv\")\n",
    "vendor4_subhourly = []\n",
    "\n",
    "# generate the annual energy value for each ILR\n",
    "for num in num_of_strings:\n",
    "    system_model.value('subarray1_nstrings', num)\n",
    "    system_model.execute()\n",
    "    vendor4_subhourly.append(system_model.value('annual_energy'))\n",
    "    #print(system_model.value('annual_energy'))\n",
    "\n",
    "# change to the appropriate file located in the weather folder\n",
    "system_model.value('solar_resource_file', os.getcwd() + \"\\\\Weather\\\\\" + v4_hourly + \".csv\")\n",
    "vendor4_hourly = []\n",
    "\n",
    "# generate the annual energy value for each ILR\n",
    "for num in num_of_strings:\n",
    "    system_model.value('subarray1_nstrings', num)\n",
    "    system_model.execute()\n",
    "    vendor4_hourly.append(system_model.value('annual_energy'))\n",
    "    #print(system_model.value('annual_energy'))\n",
    "\n",
    "# calculate biases for each set of vendor data\n",
    "vendor4_bias = []\n",
    "for index in range(len(num_of_strings)):\n",
    "    # bias = (hourly - subhourly)/subhourly * 100\n",
    "    bias = (vendor4_hourly[index] - vendor4_subhourly[index])/vendor4_subhourly[index] * 100\n",
    "    bias = round(bias, 2)\n",
    "    vendor4_bias.append(bias)"
   ]
  },
  {
   "cell_type": "code",
   "execution_count": 7,
   "metadata": {},
   "outputs": [],
   "source": [
    "# cycle through different ILRs for each weather file\n",
    "# change to the appropriate file located in the weather folder\n",
    "system_model.value('solar_resource_file', os.getcwd() + \"\\\\Weather\\\\\" + v5_subhourly + \".csv\")\n",
    "vendor5_subhourly = []\n",
    "\n",
    "# generate the annual energy value for each ILR\n",
    "for num in num_of_strings:\n",
    "    system_model.value('subarray1_nstrings', num)\n",
    "    system_model.execute()\n",
    "    vendor5_subhourly.append(system_model.value('annual_energy'))\n",
    "    #print(system_model.value('annual_energy'))\n",
    "\n",
    "# change to the appropriate file located in the weather folder\n",
    "system_model.value('solar_resource_file', os.getcwd() + \"\\\\Weather\\\\\" + v5_hourly + \".csv\")\n",
    "vendor5_hourly = []\n",
    "\n",
    "# generate the annual energy value for each ILR\n",
    "for num in num_of_strings:\n",
    "    system_model.value('subarray1_nstrings', num)\n",
    "    system_model.execute()\n",
    "    vendor5_hourly.append(system_model.value('annual_energy'))\n",
    "    #print(system_model.value('annual_energy'))\n",
    "\n",
    "# calculate biases for each set of vendor data\n",
    "vendor5_bias = []\n",
    "for index in range(len(num_of_strings)):\n",
    "    # bias = (hourly - subhourly)/subhourly * 100\n",
    "    bias = (vendor5_hourly[index] - vendor5_subhourly[index])/vendor5_subhourly[index] * 100\n",
    "    bias = round(bias, 2)\n",
    "    vendor5_bias.append(bias)"
   ]
  },
  {
   "cell_type": "code",
   "execution_count": 8,
   "metadata": {},
   "outputs": [
    {
     "name": "stdout",
     "output_type": "stream",
     "text": [
      "            1.2   1.3   1.4   1.5   1.6   1.7   1.8   1.9   2.0\n",
      "Vendor 1   0.48  0.77  1.05  1.29  1.52  1.70  1.81  1.88  1.95\n",
      "Vendor 2   0.19  0.38  0.64  0.89  1.11  1.34  1.52  1.65  1.74\n",
      "Vendor 3   0.73  1.05  1.40  1.79  2.18  2.54  2.88  3.14  3.33\n",
      "Vendor 4   0.18  0.30  0.45  0.64  0.82  1.01  1.19  1.33  1.44\n",
      "Vendor 5   0.46  0.78  1.14  1.51  1.86  2.14  2.38  2.56  2.69\n",
      "Empirical  0.44  0.95  1.45  1.89  2.28  2.56  2.77  2.93  3.03\n"
     ]
    }
   ],
   "source": [
    "# create a table of the bias for each vendor and ILR values\n",
    "ilr = [1.2, 1.3, 1.4, 1.5, 1.6, 1.7, 1.8, 1.9, 2.0]\n",
    "vendors = ['Vendor 1', 'Vendor 2', 'Vendor 3', 'Vendor 4', 'Vendor 5', 'Empirical']\n",
    "data = np.array([vendor1_bias, vendor2_bias, vendor3_bias, vendor4_bias, vendor5_bias, empirical])\n",
    "\n",
    "# create a dataframe of all the bias values of the plant\n",
    "table = pd.DataFrame(data, vendors, ilr)\n",
    "print (table)\n",
    "\n",
    "# save datatable to .csv named earlier\n",
    "table.to_csv(dir + csv_name + '.csv')"
   ]
  },
  {
   "cell_type": "code",
   "execution_count": 9,
   "metadata": {},
   "outputs": [
    {
     "data": {
      "text/plain": [
       "<AxesSubplot:title={'center':'Bias'}>"
      ]
     },
     "execution_count": 9,
     "metadata": {},
     "output_type": "execute_result"
    },
    {
     "data": {
      "image/png": "[encoded data removed]",
      "text/plain": [
       "<Figure size 432x288 with 1 Axes>"
      ]
     },
     "metadata": {
      "needs_background": "light"
     },
     "output_type": "display_data"
    }
   ],
   "source": [
    "# use datatable to generate a graph of bias values\n",
    "graph = table.transpose()\n",
    "graph.plot(title = 'Bias', kind ='line')"
   ]
  }
 ],
 "metadata": {
  "kernelspec": {
   "display_name": "base",
   "language": "python",
   "name": "python3"
  },
  "language_info": {
   "codemirror_mode": {
    "name": "ipython",
    "version": 3
   },
   "file_extension": ".py",
   "mimetype": "text/x-python",
   "name": "python",
   "nbconvert_exporter": "python",
   "pygments_lexer": "ipython3",
   "version": "3.9.12"
  },
  "orig_nbformat": 4,
  "vscode": {
   "interpreter": {
    "hash": "8542e3171832156c2005c5740ca8db0c037c98d76624ff13ee8c5b22b8f4ae1b"
   }
  }
 },
 "nbformat": 4,
 "nbformat_minor": 2
}
